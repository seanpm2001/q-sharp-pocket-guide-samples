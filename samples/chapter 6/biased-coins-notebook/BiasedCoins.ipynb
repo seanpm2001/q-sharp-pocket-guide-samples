{
 "cells": [
  {
   "cell_type": "markdown",
   "metadata": {},
   "source": [
    "# Chapter 6. Biased coins example"
   ]
  },
  {
   "cell_type": "code",
   "execution_count": 1,
   "metadata": {},
   "outputs": [
    {
     "data": {
      "application/json": "[\"FlipBiasedCoinOnce\",\"FlipBiasedCoinN\"]",
      "text/html": [
       "<ul><li>FlipBiasedCoinOnce</li><li>FlipBiasedCoinN</li></ul>"
      ],
      "text/plain": [
       "FlipBiasedCoinOnce, FlipBiasedCoinN"
      ]
     },
     "execution_count": 1,
     "metadata": {},
     "output_type": "execute_result"
    }
   ],
   "source": [
    "open Microsoft.Quantum.Arrays;\n",
    "open Microsoft.Quantum.Intrinsic;\n",
    "open Microsoft.Quantum.Math;\n",
    "\n",
    "\n",
    "/// # Summary\n",
    "/// Generates a single random bit that represents an outcome of a biased coin flip.\n",
    "/// # Input\n",
    "/// ## pTrue\n",
    "/// The probability to generate true.\n",
    "operation FlipBiasedCoinOnce(pTrue : Double) : Bool {\n",
    "    use q = Qubit();\n",
    "    Ry(2.0 * ArcSin(Sqrt(pTrue)), q);\n",
    "    return M(q) == One;\n",
    "}\n",
    "\n",
    "\n",
    "/// # Summary\n",
    "/// Generates a series of random bits that represent outcomes of a biased coin flip.\n",
    "/// # Input\n",
    "/// ## n\n",
    "/// The number of bits to generate.\n",
    "/// ## pTrue\n",
    "/// The probability to generate true.\n",
    "operation FlipBiasedCoinN(n : Int, pTrue : Double) : Bool[] {\n",
    "    return DrawMany(FlipBiasedCoinOnce, n, pTrue);\n",
    "}"
   ]
  },
  {
   "cell_type": "code",
   "execution_count": 2,
   "metadata": {},
   "outputs": [
    {
     "data": {
      "application/json": "[false,true,false,true,false,false,true,false,false,false]",
      "text/html": [
       "<ul><li>False</li><li>True</li><li>False</li><li>True</li><li>False</li><li>False</li><li>True</li><li>False</li><li>False</li><li>False</li></ul>"
      ],
      "text/plain": [
       "False, True, False, True, False, False, True, False, False, False"
      ]
     },
     "execution_count": 2,
     "metadata": {},
     "output_type": "execute_result"
    }
   ],
   "source": [
    "%simulate FlipBiasedCoinN n=10 pTrue=0.3"
   ]
  }
 ],
 "metadata": {
  "kernelspec": {
   "display_name": "Q#",
   "language": "qsharp",
   "name": "iqsharp"
  },
  "language_info": {
   "file_extension": ".qs",
   "mimetype": "text/x-qsharp",
   "name": "qsharp",
   "version": "0.14"
  }
 },
 "nbformat": 4,
 "nbformat_minor": 2
}
