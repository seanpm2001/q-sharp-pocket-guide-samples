{
 "cells": [
  {
   "cell_type": "markdown",
   "metadata": {},
   "source": [
    "# Inspecting Elements of Q# Programs"
   ]
  },
  {
   "cell_type": "markdown",
   "metadata": {},
   "source": [
    "## Classical Variables"
   ]
  },
  {
   "cell_type": "code",
   "execution_count": 1,
   "metadata": {},
   "outputs": [
    {
     "data": {
      "application/x-qsharp-data": "[\"InspectClassicalVariablesDemo\"]",
      "text/html": [
       "<ul><li>InspectClassicalVariablesDemo</li></ul>"
      ],
      "text/plain": [
       "InspectClassicalVariablesDemo"
      ]
     },
     "execution_count": 1,
     "metadata": {},
     "output_type": "execute_result"
    }
   ],
   "source": [
    "open Microsoft.Quantum.Intrinsic;\n",
    "\n",
    "/// # Summary\n",
    "/// Demo of inspecting classical variables using the Message function.\n",
    "operation InspectClassicalVariablesDemo(n : Int) : Unit {\n",
    "    Message($\"The value of the classical variable is {n}\");\n",
    "}"
   ]
  },
  {
   "cell_type": "code",
   "execution_count": 2,
   "metadata": {},
   "outputs": [
    {
     "name": "stdout",
     "output_type": "stream",
     "text": [
      "The value of the classical variable is 5\r\n"
     ]
    },
    {
     "data": {
      "application/x-qsharp-data": "{\"@type\":\"tuple\"}",
      "text/plain": [
       "()"
      ]
     },
     "execution_count": 2,
     "metadata": {},
     "output_type": "execute_result"
    }
   ],
   "source": [
    "%simulate InspectClassicalVariablesDemo n=5"
   ]
  },
  {
   "cell_type": "markdown",
   "metadata": {},
   "source": [
    "## Quantum States"
   ]
  },
  {
   "cell_type": "code",
   "execution_count": 3,
   "metadata": {},
   "outputs": [
    {
     "data": {
      "application/x-qsharp-data": "[\"InspectQuantumStateDemo\"]",
      "text/html": [
       "<ul><li>InspectQuantumStateDemo</li></ul>"
      ],
      "text/plain": [
       "InspectQuantumStateDemo"
      ]
     },
     "execution_count": 3,
     "metadata": {},
     "output_type": "execute_result"
    }
   ],
   "source": [
    "open Microsoft.Quantum.Arithmetic;\n",
    "open Microsoft.Quantum.Diagnostics;\n",
    "open Microsoft.Quantum.Intrinsic;\n",
    "open Microsoft.Quantum.Math;\n",
    "open Microsoft.Quantum.Preparation;\n",
    "\n",
    "/// # Summary\n",
    "/// Demo of inspecting quantum states using the DumpMachine function.\n",
    "operation InspectQuantumStateDemo() : Unit {\n",
    "    use qs = Qubit[2];\n",
    "    PrepareArbitraryStateCP([\n",
    "            ComplexPolar(1., 0.),\n",
    "            ComplexPolar(0., 0.),\n",
    "            ComplexPolar(2., PI()/2.0),\n",
    "            ComplexPolar(-2., 0.)\n",
    "        ],\n",
    "        LittleEndian(qs));\n",
    "    DumpMachine();\n",
    "    ResetAll(qs);\n",
    "}"
   ]
  },
  {
   "cell_type": "code",
   "execution_count": 4,
   "metadata": {},
   "outputs": [
    {
     "data": {
      "application/x-qsharp-data": "{\"diagnostic_kind\":\"state-vector\",\"qubit_ids\":[0,1],\"n_qubits\":2,\"amplitudes\":{\"0\":{\"Real\":0.33333333333333326,\"Imaginary\":-1.3877787807814457E-17,\"Magnitude\":0.33333333333333326,\"Phase\":-4.163336342344338E-17},\"1\":{\"Real\":0.0,\"Imaginary\":0.0,\"Magnitude\":0.0,\"Phase\":0.0},\"2\":{\"Real\":-2.7755575615628914E-17,\"Imaginary\":0.6666666666666667,\"Magnitude\":0.6666666666666667,\"Phase\":1.5707963267948966},\"3\":{\"Real\":-0.6666666666666667,\"Imaginary\":2.7755575615628914E-17,\"Magnitude\":0.6666666666666667,\"Phase\":3.141592653589793}}}",
      "text/html": [
       "\r\n",
       "                    <table style=\"table-layout: fixed; width: 100%\">\r\n",
       "                        <thead>\r\n",
       "                            \r\n",
       "                        <tr>\r\n",
       "                            <th>Qubit IDs</th>\r\n",
       "                            <td span=\"3\">0, 1</td>\r\n",
       "                        </tr>\r\n",
       "                    \r\n",
       "                            <tr>\r\n",
       "                                <th style=\"width: 20ch)\">Basis state (little endian)</th>\r\n",
       "                                <th style=\"width: 20ch\">Amplitude</th><th style=\"width: calc(100% - 26ch - 20ch)\">Meas. Pr.</th><th style=\"width: 6ch\">Phase</th>\r\n",
       "                            </tr>\r\n",
       "                        </thead>\r\n",
       "                        <tbody>\r\n",
       "                        \r\n",
       "                            <tr>\r\n",
       "                                <td>$\\left|0\\right\\rangle$</td>\r\n",
       "                                <td>$0.3333  -0.0000 i$</td>\r\n",
       "                                \r\n",
       "                                <td>\r\n",
       "                                    <progress\r\n",
       "                                        max=\"100\"\r\n",
       "                                        value=\"11.111111111111107\"\r\n",
       "                                        style=\"width: 100%;\"\r\n",
       "                                    > \r\n",
       "                                    <td>\r\n",
       "                                    <p id=\"round-d9b2aeb6-1ed7-44b8-a2ca-87f08e23ce8b\"> \r\n",
       "                                    <script>\r\n",
       "                                    var num = 11.111111111111107;\r\n",
       "                                    num = num.toFixed(4);\r\n",
       "                                    var num_string = num + \"%\";\r\n",
       "                                     document.getElementById(\"round-d9b2aeb6-1ed7-44b8-a2ca-87f08e23ce8b\").innerHTML = num_string;\r\n",
       "                                    </script> </p>\r\n",
       "                                    </td>\r\n",
       "                                </td>\r\n",
       "                            \r\n",
       "                                \r\n",
       "                                <td style=\"transform: rotate(-2.385416011097638E-15deg);\r\n",
       "                   text-align: center;\">\r\n",
       "                                 ↑\r\n",
       "                                </td>\r\n",
       "                            \r\n",
       "                            </tr>\r\n",
       "                        \n",
       "\r\n",
       "                            <tr>\r\n",
       "                                <td>$\\left|1\\right\\rangle$</td>\r\n",
       "                                <td>$0.0000 + 0.0000 i$</td>\r\n",
       "                                \r\n",
       "                                <td>\r\n",
       "                                    <progress\r\n",
       "                                        max=\"100\"\r\n",
       "                                        value=\"0\"\r\n",
       "                                        style=\"width: 100%;\"\r\n",
       "                                    > \r\n",
       "                                    <td>\r\n",
       "                                    <p id=\"round-1359794c-3784-4b97-bda0-afa7daf4be84\"> \r\n",
       "                                    <script>\r\n",
       "                                    var num = 0;\r\n",
       "                                    num = num.toFixed(4);\r\n",
       "                                    var num_string = num + \"%\";\r\n",
       "                                     document.getElementById(\"round-1359794c-3784-4b97-bda0-afa7daf4be84\").innerHTML = num_string;\r\n",
       "                                    </script> </p>\r\n",
       "                                    </td>\r\n",
       "                                </td>\r\n",
       "                            \r\n",
       "                                \r\n",
       "                                <td style=\"transform: rotate(0deg);\r\n",
       "                   text-align: center;\">\r\n",
       "                                 ↑\r\n",
       "                                </td>\r\n",
       "                            \r\n",
       "                            </tr>\r\n",
       "                        \n",
       "\r\n",
       "                            <tr>\r\n",
       "                                <td>$\\left|2\\right\\rangle$</td>\r\n",
       "                                <td>$-0.0000 + 0.6667 i$</td>\r\n",
       "                                \r\n",
       "                                <td>\r\n",
       "                                    <progress\r\n",
       "                                        max=\"100\"\r\n",
       "                                        value=\"44.44444444444445\"\r\n",
       "                                        style=\"width: 100%;\"\r\n",
       "                                    > \r\n",
       "                                    <td>\r\n",
       "                                    <p id=\"round-99d40570-d8dd-45ee-989f-d4d3087229be\"> \r\n",
       "                                    <script>\r\n",
       "                                    var num = 44.44444444444445;\r\n",
       "                                    num = num.toFixed(4);\r\n",
       "                                    var num_string = num + \"%\";\r\n",
       "                                     document.getElementById(\"round-99d40570-d8dd-45ee-989f-d4d3087229be\").innerHTML = num_string;\r\n",
       "                                    </script> </p>\r\n",
       "                                    </td>\r\n",
       "                                </td>\r\n",
       "                            \r\n",
       "                                \r\n",
       "                                <td style=\"transform: rotate(90deg);\r\n",
       "                   text-align: center;\">\r\n",
       "                                 ↑\r\n",
       "                                </td>\r\n",
       "                            \r\n",
       "                            </tr>\r\n",
       "                        \n",
       "\r\n",
       "                            <tr>\r\n",
       "                                <td>$\\left|3\\right\\rangle$</td>\r\n",
       "                                <td>$-0.6667 + 0.0000 i$</td>\r\n",
       "                                \r\n",
       "                                <td>\r\n",
       "                                    <progress\r\n",
       "                                        max=\"100\"\r\n",
       "                                        value=\"44.44444444444445\"\r\n",
       "                                        style=\"width: 100%;\"\r\n",
       "                                    > \r\n",
       "                                    <td>\r\n",
       "                                    <p id=\"round-5bff52fe-c8f6-459c-84b3-be8ff8666558\"> \r\n",
       "                                    <script>\r\n",
       "                                    var num = 44.44444444444445;\r\n",
       "                                    num = num.toFixed(4);\r\n",
       "                                    var num_string = num + \"%\";\r\n",
       "                                     document.getElementById(\"round-5bff52fe-c8f6-459c-84b3-be8ff8666558\").innerHTML = num_string;\r\n",
       "                                    </script> </p>\r\n",
       "                                    </td>\r\n",
       "                                </td>\r\n",
       "                            \r\n",
       "                                \r\n",
       "                                <td style=\"transform: rotate(180deg);\r\n",
       "                   text-align: center;\">\r\n",
       "                                 ↑\r\n",
       "                                </td>\r\n",
       "                            \r\n",
       "                            </tr>\r\n",
       "                        \r\n",
       "                        </tbody>\r\n",
       "                    </table>"
      ],
      "text/plain": [
       "|0⟩\t0.33333333333333326 + -1.3877787807814457E-17𝑖\n",
       "|1⟩\t0 + 0𝑖\n",
       "|2⟩\t-2.7755575615628914E-17 + 0.6666666666666667𝑖\n",
       "|3⟩\t-0.6666666666666667 + 2.7755575615628914E-17𝑖"
      ]
     },
     "metadata": {},
     "output_type": "display_data"
    },
    {
     "data": {
      "application/x-qsharp-data": "{\"@type\":\"tuple\"}",
      "text/plain": [
       "()"
      ]
     },
     "execution_count": 4,
     "metadata": {},
     "output_type": "execute_result"
    }
   ],
   "source": [
    "%simulate InspectQuantumStateDemo"
   ]
  },
  {
   "cell_type": "markdown",
   "metadata": {},
   "source": [
    "Configuring the output of DumpMachine (Q# Jupyter Notebooks only)"
   ]
  },
  {
   "cell_type": "code",
   "execution_count": 5,
   "metadata": {},
   "outputs": [
    {
     "data": {
      "application/x-qsharp-data": "{\"diagnostic_kind\":\"state-vector\",\"qubit_ids\":[0,1],\"n_qubits\":2,\"amplitudes\":{\"0\":{\"Real\":0.33333333333333326,\"Imaginary\":-1.3877787807814457E-17,\"Magnitude\":0.33333333333333326,\"Phase\":-4.163336342344338E-17},\"1\":{\"Real\":0.0,\"Imaginary\":0.0,\"Magnitude\":0.0,\"Phase\":0.0},\"2\":{\"Real\":-2.7755575615628914E-17,\"Imaginary\":0.6666666666666667,\"Magnitude\":0.6666666666666667,\"Phase\":1.5707963267948966},\"3\":{\"Real\":-0.6666666666666667,\"Imaginary\":2.7755575615628914E-17,\"Magnitude\":0.6666666666666667,\"Phase\":3.141592653589793}}}",
      "text/html": [
       "\r\n",
       "                    <table style=\"table-layout: fixed; width: 100%\">\r\n",
       "                        <thead>\r\n",
       "                            \r\n",
       "                        <tr>\r\n",
       "                            <th>Qubit IDs</th>\r\n",
       "                            <td span=\"3\">0, 1</td>\r\n",
       "                        </tr>\r\n",
       "                    \r\n",
       "                            <tr>\r\n",
       "                                <th style=\"width: 20ch)\">Basis state (bitstring)</th>\r\n",
       "                                <th style=\"width: 20ch\">Amplitude</th><th style=\"width: calc(100% - 26ch - 20ch)\">Meas. Pr.</th>\r\n",
       "                            </tr>\r\n",
       "                        </thead>\r\n",
       "                        <tbody>\r\n",
       "                        \r\n",
       "                            <tr>\r\n",
       "                                <td>$\\left|00\\right\\rangle$</td>\r\n",
       "                                <td>$0.3333  -0.0000 i$</td>\r\n",
       "                                \r\n",
       "                                <td>\r\n",
       "                                    <progress\r\n",
       "                                        max=\"100\"\r\n",
       "                                        value=\"11.111111111111107\"\r\n",
       "                                        style=\"width: 100%;\"\r\n",
       "                                    > \r\n",
       "                                    <td>\r\n",
       "                                    <p id=\"round-c2459122-d3b5-4b8b-9566-53d7cbc29cf3\"> \r\n",
       "                                    <script>\r\n",
       "                                    var num = 11.111111111111107;\r\n",
       "                                    num = num.toFixed(4);\r\n",
       "                                    var num_string = num + \"%\";\r\n",
       "                                     document.getElementById(\"round-c2459122-d3b5-4b8b-9566-53d7cbc29cf3\").innerHTML = num_string;\r\n",
       "                                    </script> </p>\r\n",
       "                                    </td>\r\n",
       "                                </td>\r\n",
       "                            \r\n",
       "                                \r\n",
       "                            </tr>\r\n",
       "                        \n",
       "\r\n",
       "                            <tr>\r\n",
       "                                <td>$\\left|01\\right\\rangle$</td>\r\n",
       "                                <td>$-0.0000 + 0.6667 i$</td>\r\n",
       "                                \r\n",
       "                                <td>\r\n",
       "                                    <progress\r\n",
       "                                        max=\"100\"\r\n",
       "                                        value=\"44.44444444444445\"\r\n",
       "                                        style=\"width: 100%;\"\r\n",
       "                                    > \r\n",
       "                                    <td>\r\n",
       "                                    <p id=\"round-6d866bee-37a9-4a17-a3f7-a0955cd9090d\"> \r\n",
       "                                    <script>\r\n",
       "                                    var num = 44.44444444444445;\r\n",
       "                                    num = num.toFixed(4);\r\n",
       "                                    var num_string = num + \"%\";\r\n",
       "                                     document.getElementById(\"round-6d866bee-37a9-4a17-a3f7-a0955cd9090d\").innerHTML = num_string;\r\n",
       "                                    </script> </p>\r\n",
       "                                    </td>\r\n",
       "                                </td>\r\n",
       "                            \r\n",
       "                                \r\n",
       "                            </tr>\r\n",
       "                        \n",
       "\r\n",
       "                            <tr>\r\n",
       "                                <td>$\\left|11\\right\\rangle$</td>\r\n",
       "                                <td>$-0.6667 + 0.0000 i$</td>\r\n",
       "                                \r\n",
       "                                <td>\r\n",
       "                                    <progress\r\n",
       "                                        max=\"100\"\r\n",
       "                                        value=\"44.44444444444445\"\r\n",
       "                                        style=\"width: 100%;\"\r\n",
       "                                    > \r\n",
       "                                    <td>\r\n",
       "                                    <p id=\"round-e66d1f48-4bcf-423b-91c2-659f4a45e572\"> \r\n",
       "                                    <script>\r\n",
       "                                    var num = 44.44444444444445;\r\n",
       "                                    num = num.toFixed(4);\r\n",
       "                                    var num_string = num + \"%\";\r\n",
       "                                     document.getElementById(\"round-e66d1f48-4bcf-423b-91c2-659f4a45e572\").innerHTML = num_string;\r\n",
       "                                    </script> </p>\r\n",
       "                                    </td>\r\n",
       "                                </td>\r\n",
       "                            \r\n",
       "                                \r\n",
       "                            </tr>\r\n",
       "                        \r\n",
       "                        </tbody>\r\n",
       "                    </table>"
      ],
      "text/plain": [
       "|00⟩\t0.33333333333333326 + -1.3877787807814457E-17𝑖\n",
       "|01⟩\t-2.7755575615628914E-17 + 0.6666666666666667𝑖\n",
       "|11⟩\t-0.6666666666666667 + 2.7755575615628914E-17𝑖"
      ]
     },
     "metadata": {},
     "output_type": "display_data"
    },
    {
     "data": {
      "application/x-qsharp-data": "{\"@type\":\"tuple\"}",
      "text/plain": [
       "()"
      ]
     },
     "execution_count": 5,
     "metadata": {},
     "output_type": "execute_result"
    }
   ],
   "source": [
    "%config dump.basisStateLabelingConvention=\"BitString\"\n",
    "%config dump.truncateSmallAmplitudes=true\n",
    "%config dump.phaseDisplayStyle=\"None\"\n",
    "%simulate InspectQuantumStateDemo"
   ]
  },
  {
   "cell_type": "markdown",
   "metadata": {},
   "source": [
    "## Quantum Operations"
   ]
  },
  {
   "cell_type": "code",
   "execution_count": 6,
   "metadata": {},
   "outputs": [
    {
     "data": {
      "application/x-qsharp-data": "[\"ControlledRxWrapper\",\"InspectQuantumOperationDemo\"]",
      "text/html": [
       "<ul><li>ControlledRxWrapper</li><li>InspectQuantumOperationDemo</li></ul>"
      ],
      "text/plain": [
       "ControlledRxWrapper, InspectQuantumOperationDemo"
      ]
     },
     "execution_count": 6,
     "metadata": {},
     "output_type": "execute_result"
    }
   ],
   "source": [
    "open Microsoft.Quantum.Arrays;\n",
    "open Microsoft.Quantum.Diagnostics;\n",
    "open Microsoft.Quantum.Intrinsic;\n",
    "\n",
    "operation ControlledRxWrapper(\n",
    "    qs : Qubit[],\n",
    "    theta : Double\n",
    ") : Unit is Adj + Ctl {\n",
    "    Controlled Rx(Most(qs), (theta, Tail(qs)));\n",
    "}\n",
    "\n",
    "/// # Summary\n",
    "/// Demo of inspecting quantum operations using the DumpOperation function.\n",
    "operation InspectQuantumOperationDemo() : Unit {\n",
    "    DumpOperation(2, ControlledRxWrapper(_, PI() / 2.0));\n",
    "}"
   ]
  },
  {
   "cell_type": "code",
   "execution_count": 7,
   "metadata": {},
   "outputs": [
    {
     "data": {
      "application/x-qsharp-data": "{\"Qubits\":[{\"Probability\":0.5000000000000002,\"IsMeasured\":false,\"Id\":2,\"Qubits\":[]},{\"Probability\":0.5000000000000002,\"IsMeasured\":false,\"Id\":3,\"Qubits\":[]}],\"Data\":[1.0,0.0,0.0,0.0,0.0,0.0,0.0,0.0,0.0,0.0,0.7071067811865476,0.0,0.0,0.0,0.0,-0.7071067811865476,0.0,0.0,0.0,0.0,1.0,0.0,0.0,0.0,0.0,0.0,0.0,-0.7071067811865476,0.0,0.0,0.7071067811865476,0.0]}",
      "text/html": [
       "\r\n",
       "                    <table>\r\n",
       "                        <tr>\r\n",
       "                            <th>Qubit IDs</th>\r\n",
       "                            <td>2, 3\r\n",
       "                        </tr>\r\n",
       "\r\n",
       "                        <tr>\r\n",
       "                            <th>Unitary representation</th>\r\n",
       "                            <td>$$\r\n",
       "                                \\left(\\begin{matrix}\r\n",
       "                                    1 & 0 & 0 & 0 \\\\\n",
       "0 & 0.707 & 0 & -0.707i \\\\\n",
       "0 & 0 & 1 & 0 \\\\\n",
       "0 & -0.707i & 0 & 0.707\r\n",
       "                                \\end{matrix}\\right)\r\n",
       "                            $$</td>\r\n",
       "                        </tr>\r\n",
       "                    </table>\r\n",
       "                "
      ],
      "text/plain": [
       "Real:\n",
       "[[1, 0, 0, 0], \r\n",
       "[0, 0.7071067811865476, 0, 0], \r\n",
       "[0, 0, 1, 0], \r\n",
       "[0, 0, 0, 0.7071067811865476]]\n",
       "Imag:\n",
       "[[0, 0, 0, 0], \r\n",
       "[0, 0, 0, -0.7071067811865476], \r\n",
       "[0, 0, 0, 0], \r\n",
       "[0, -0.7071067811865476, 0, 0]]"
      ]
     },
     "metadata": {},
     "output_type": "display_data"
    },
    {
     "data": {
      "application/x-qsharp-data": "{\"@type\":\"tuple\"}",
      "text/plain": [
       "()"
      ]
     },
     "execution_count": 7,
     "metadata": {},
     "output_type": "execute_result"
    }
   ],
   "source": [
    "%simulate InspectQuantumOperationDemo"
   ]
  },
  {
   "cell_type": "markdown",
   "metadata": {},
   "source": [
    "Switching the operation inspected from little endian (default) to big endian."
   ]
  },
  {
   "cell_type": "code",
   "execution_count": 8,
   "metadata": {},
   "outputs": [
    {
     "data": {
      "application/x-qsharp-data": "[\"ControlledRxWrapperBE\",\"InspectQuantumOperationBEDemo\"]",
      "text/html": [
       "<ul><li>ControlledRxWrapperBE</li><li>InspectQuantumOperationBEDemo</li></ul>"
      ],
      "text/plain": [
       "ControlledRxWrapperBE, InspectQuantumOperationBEDemo"
      ]
     },
     "execution_count": 8,
     "metadata": {},
     "output_type": "execute_result"
    }
   ],
   "source": [
    "open Microsoft.Quantum.Arrays;\n",
    "open Microsoft.Quantum.Diagnostics;\n",
    "open Microsoft.Quantum.Intrinsic;\n",
    "\n",
    "operation ControlledRxWrapperBE(\n",
    "    qs : Qubit[],\n",
    "    theta : Double\n",
    ") : Unit is Adj + Ctl {\n",
    "    Controlled Rx(Rest(qs), (theta, Head(qs)));\n",
    "}\n",
    "\n",
    "/// # Summary\n",
    "/// Demo of inspecting quantum operations using the DumpOperation function.\n",
    "operation InspectQuantumOperationBEDemo() : Unit {\n",
    "    DumpOperation(2, ControlledRxWrapperBE(_, PI() / 2.0));\n",
    "}"
   ]
  },
  {
   "cell_type": "code",
   "execution_count": 9,
   "metadata": {
    "scrolled": true
   },
   "outputs": [
    {
     "data": {
      "application/x-qsharp-data": "{\"Qubits\":[{\"Probability\":0.5000000000000002,\"IsMeasured\":false,\"Id\":2,\"Qubits\":[]},{\"Probability\":0.5000000000000002,\"IsMeasured\":false,\"Id\":3,\"Qubits\":[]}],\"Data\":[1.0000000000000002,0.0,0.0,0.0,0.0,0.0,0.0,0.0,0.0,0.0,1.0000000000000002,0.0,0.0,0.0,0.0,0.0,0.0,0.0,0.0,0.0,0.7071067811865477,0.0,0.0,-0.7071067811865477,0.0,0.0,0.0,0.0,0.0,-0.7071067811865477,0.7071067811865477,0.0]}",
      "text/html": [
       "\r\n",
       "                    <table>\r\n",
       "                        <tr>\r\n",
       "                            <th>Qubit IDs</th>\r\n",
       "                            <td>2, 3\r\n",
       "                        </tr>\r\n",
       "\r\n",
       "                        <tr>\r\n",
       "                            <th>Unitary representation</th>\r\n",
       "                            <td>$$\r\n",
       "                                \\left(\\begin{matrix}\r\n",
       "                                    1 & 0 & 0 & 0 \\\\\n",
       "0 & 1 & 0 & 0 \\\\\n",
       "0 & 0 & 0.707 & -0.707i \\\\\n",
       "0 & 0 & -0.707i & 0.707\r\n",
       "                                \\end{matrix}\\right)\r\n",
       "                            $$</td>\r\n",
       "                        </tr>\r\n",
       "                    </table>\r\n",
       "                "
      ],
      "text/plain": [
       "Real:\n",
       "[[1.0000000000000002, 0, 0, 0], \r\n",
       "[0, 1.0000000000000002, 0, 0], \r\n",
       "[0, 0, 0.7071067811865477, 0], \r\n",
       "[0, 0, 0, 0.7071067811865477]]\n",
       "Imag:\n",
       "[[0, 0, 0, 0], \r\n",
       "[0, 0, 0, 0], \r\n",
       "[0, 0, 0, -0.7071067811865477], \r\n",
       "[0, 0, -0.7071067811865477, 0]]"
      ]
     },
     "metadata": {},
     "output_type": "display_data"
    },
    {
     "data": {
      "application/x-qsharp-data": "{\"@type\":\"tuple\"}",
      "text/plain": [
       "()"
      ]
     },
     "execution_count": 9,
     "metadata": {},
     "output_type": "execute_result"
    }
   ],
   "source": [
    "%simulate InspectQuantumOperationBEDemo"
   ]
  },
  {
   "cell_type": "markdown",
   "metadata": {},
   "source": [
    "## Program Structure and Evolution"
   ]
  },
  {
   "cell_type": "code",
   "execution_count": 10,
   "metadata": {},
   "outputs": [
    {
     "data": {
      "application/x-qsharp-data": "[\"SumOfBitsMarkingOracle\",\"MarkingAsPhaseOracle\",\"RunDeutschJozsaAlgorithm\"]",
      "text/html": [
       "<ul><li>SumOfBitsMarkingOracle</li><li>MarkingAsPhaseOracle</li><li>RunDeutschJozsaAlgorithm</li></ul>"
      ],
      "text/plain": [
       "SumOfBitsMarkingOracle, MarkingAsPhaseOracle, RunDeutschJozsaAlgorithm"
      ]
     },
     "execution_count": 10,
     "metadata": {},
     "output_type": "execute_result"
    }
   ],
   "source": [
    "open Microsoft.Quantum.Arrays;\n",
    "open Microsoft.Quantum.Diagnostics;\n",
    "open Microsoft.Quantum.Intrinsic;\n",
    "\n",
    "/// # Summary\n",
    "/// A marking oracle for f(x) = sum of bits of x modulo 2.\n",
    "operation SumOfBitsMarkingOracle(\n",
    "    input : Qubit[],\n",
    "    output : Qubit\n",
    ") : Unit is Adj + Ctl {\n",
    "    for q in input {\n",
    "        CNOT(q, output);\n",
    "    }\n",
    "}\n",
    "\n",
    "\n",
    "/// # Summary\n",
    "/// Converts a marking oracle to a phase oracle using phase kickback trick.\n",
    "operation MarkingAsPhaseOracle(markingOracle : (Qubit[], Qubit) => Unit, input : Qubit[]) : Unit {\n",
    "    use target = Qubit();\n",
    "    within {\n",
    "        X(target);\n",
    "        H(target);\n",
    "    } apply {\n",
    "        markingOracle(input, target);\n",
    "    }\n",
    "}\n",
    "\n",
    "\n",
    "/// # Summary\n",
    "/// Demo of inspecting quantum operations using the DumpOperation function.\n",
    "operation RunDeutschJozsaAlgorithm(N : Int) : Bool {\n",
    "    mutable isConstant = true;\n",
    "\n",
    "    use qs = Qubit[2];\n",
    "    ApplyToEach(H, qs);\n",
    "    \n",
    "    let oracle = MarkingAsPhaseOracle(SumOfBitsMarkingOracle, _);\n",
    "    oracle(qs);\n",
    "\n",
    "    ApplyToEach(H, qs);\n",
    "\n",
    "    for q in qs {\n",
    "        if M(q) == One {\n",
    "            set isConstant = false;\n",
    "        }\n",
    "    }\n",
    "    \n",
    "    return isConstant;\n",
    "}"
   ]
  },
  {
   "cell_type": "code",
   "execution_count": 11,
   "metadata": {},
   "outputs": [
    {
     "data": {
      "application/x-qsharp-data": "false",
      "text/plain": [
       "False"
      ]
     },
     "execution_count": 11,
     "metadata": {},
     "output_type": "execute_result"
    }
   ],
   "source": [
    "%simulate RunDeutschJozsaAlgorithm N=2"
   ]
  },
  {
   "cell_type": "code",
   "execution_count": 12,
   "metadata": {},
   "outputs": [
    {
     "data": {
      "application/x-qsharp-data": "{\"Html\":\"<div id='execution-path-container-20b1e565-cc37-4984-bfc7-e76d0de9c608' />\"}",
      "text/html": [
       "<div id='execution-path-container-20b1e565-cc37-4984-bfc7-e76d0de9c608' />"
      ],
      "text/plain": [
       "Microsoft.Quantum.IQSharp.Jupyter.DisplayableHtmlElement"
      ]
     },
     "metadata": {},
     "output_type": "display_data"
    }
   ],
   "source": [
    "%trace RunDeutschJozsaAlgorithm N=2"
   ]
  },
  {
   "cell_type": "code",
   "execution_count": null,
   "metadata": {},
   "outputs": [],
   "source": [
    "%debug RunDeutschJozsaAlgorithm N=2"
   ]
  }
 ],
 "metadata": {
  "kernelspec": {
   "display_name": "Q#",
   "language": "qsharp",
   "name": "iqsharp"
  },
  "language_info": {
   "file_extension": ".qs",
   "mimetype": "text/x-qsharp",
   "name": "qsharp",
   "version": "0.14"
  }
 },
 "nbformat": 4,
 "nbformat_minor": 2
}
